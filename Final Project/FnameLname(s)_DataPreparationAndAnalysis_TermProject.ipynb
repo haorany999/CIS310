{
 "cells": [
  {
   "cell_type": "markdown",
   "metadata": {},
   "source": [
    "# Term Project: Data Preparation And Analysis For Washington D.C Properties\n",
    "# Total Points: 60\n",
    "\n",
    "## Instructions: \n",
    "\n",
    "1) Rename this .ipynb file with your first and last name (For Both Team members)\n",
    "\n",
    "2) Complete the project info form\n",
    "\n",
    "3) Answer all the questions\n",
    "\n",
    "4) Upload this file into Canvas as your submisison file for the project\n",
    "\n",
    "**Do not upload/push this file into your GitHub account**\n",
    "\n",
    "** The CSV Dataset File 'DC_Properties.csv' is Eclosed with This .ipynb file **\n",
    "\n"
   ]
  },
  {
   "cell_type": "markdown",
   "metadata": {},
   "source": [
    "# Complete the file info form:\n",
    "\n",
    "Team Names Full Name1: ------Haoran Yang-----------------  Full Name2: --------No-----------\n",
    "\n",
    "Team CSU ID1: -----831827060---------- Team CSU ID2: --------No-------------\n",
    "\n",
    "Date:--------05/04/2021----------------\n"
   ]
  },
  {
   "cell_type": "markdown",
   "metadata": {},
   "source": [
    "## Dataset Attribute Description\n",
    "\n",
    "- BATHRM - Number of Full Bathrooms\n",
    "- HF_BATHRM - Number of Half Bathrooms (no bathtub or shower)\n",
    "- HEAT - Heating\n",
    "- AC - Cooling\n",
    "- NUM_UNITS - Number of Units\n",
    "- ROOMS - Number of Rooms\n",
    "- BEDRM - Number of Bedrooms\n",
    "- AYB - The earliest time the main portion of the building was built\n",
    "- YR_RMDL - Year structure was remodeled\n",
    "- EYB - The year an improvement was built more recent than actual year built\n",
    "- STORIES - Number of stories in primary dwelling\n",
    "- SALEDATE - Date of most recent sale\n",
    "- PRICE - Price of most recent sale\n",
    "- QUALIFIED - Qualified\n",
    "- SALE_NUM - Sale Number\n",
    "- GBA - Gross building area in square feet\n",
    "- BLDG_NUM - Building Number on Property\n",
    "- STYLE - Structure style in regard to stories\n",
    "- STRUCT - Structure type\n",
    "- GRADE - Structural Grade\n",
    "- CNDTN - Condition\n",
    "- EXTWALL - Extrerior wall type\n",
    "- ROOF - Roof type\n",
    "- INTWALL - Interior wall\n",
    "- KITCHENS - Number of kitchens\n",
    "- FIREPLACES - Number of fireplaces\n",
    "- USECODE - Property use code\n",
    "- LANDAREA - Land area of property in square feet\n",
    "- GIS_LAST_MOD_DTTM - Last Modified Date\n",
    "- SOURCE - Raw Data Source\n",
    "- CMPLX_NUM - Complex number\n",
    "- LIVING_GBA - Gross building area in square feet\n",
    "- FULLADDRESS - Full Street Address\n",
    "- CITY - City\n",
    "- STATE - State\n",
    "- ZIPCODE - Zip Code\n",
    "- NATIONALGRID - Address location national grid coordinate spatial address\n",
    "- LATITUDE - Latitude\n",
    "- LONGITUDE - Longitude\n",
    "- ASSESSMENT_NBHD - Neighborhood ID\n",
    "- ASSESSMENT_SUBNBHD - Subneighborhood ID\n",
    "- CENSUS_TRACT - Census tract\n",
    "- CENSUS_BLOCK - Census block\n",
    "- WARD - Ward (District is divided into eight wards, each with approximately 75,000 residents)\n",
    "- SQUARE - Square (from SSL)\n",
    "- X - longitude\n",
    "- Y - latitude\n",
    "- QUADRANT - City quadrant (NE, SE, SW, NW)\n"
   ]
  },
  {
   "cell_type": "code",
   "execution_count": 1,
   "metadata": {},
   "outputs": [],
   "source": [
    "#Let's go ahead and start with some imports\n",
    "import pandas as pd\n",
    "from pandas import Series,DataFrame\n",
    "import numpy as np\n",
    "\n",
    "# These are the plotting modules adn libraries we'll use:\n",
    "import matplotlib as mpl\n",
    "import matplotlib.pyplot as plt\n",
    "%matplotlib inline\n",
    "\n",
    "# For time stamps\n",
    "from datetime import datetime\n",
    "\n",
    "# Optionally add any modules as you need"
   ]
  },
  {
   "cell_type": "markdown",
   "metadata": {},
   "source": [
    "## Q1 (3 points): Read the Washington D.C property Dataset from file?"
   ]
  },
  {
   "cell_type": "code",
   "execution_count": 2,
   "metadata": {},
   "outputs": [],
   "source": [
    "# Q1 Anaswer:"
   ]
  },
  {
   "cell_type": "markdown",
   "metadata": {},
   "source": [
    "## Q2 (17 Points): Data Exploration?\n",
    " - Find the otal number of observations (Rows) (3 pts)\n",
    " - Find the total number of variables (columns) (3 pts)\n",
    " - Find the number of numerical and none-numerical variables (6 pts)\n",
    " - Find the number of variables (columns) that include missing values (5 pts)\n",
    " \n",
    " ** One way to find out the number of observations/variables (columns) and the variables types is to use DataFrame.info() **"
   ]
  },
  {
   "cell_type": "code",
   "execution_count": 3,
   "metadata": {},
   "outputs": [],
   "source": [
    "# Q2 Anaswers: (Add Cells as needed)"
   ]
  },
  {
   "cell_type": "markdown",
   "metadata": {},
   "source": [
    "## Q3 (20 Points): Preparing data for analytics?\n",
    "- Handling all missing values in the data set by removing records with np.nan values. (5 pts)\n",
    "- Remove the properties that have abnormal price. (5 pts)\n",
    "- Remove all columns that have a constant value. (5 pts)\n",
    "- Replace the column SALEDATE with the columns, SALEYEAR and SALEMONTH (5 pts) "
   ]
  },
  {
   "cell_type": "code",
   "execution_count": 4,
   "metadata": {},
   "outputs": [],
   "source": [
    "# Q3 Anaswers: (Add Cells as needed)"
   ]
  },
  {
   "cell_type": "markdown",
   "metadata": {},
   "source": [
    "## Q4 (20 Points). Use data visualization for data analysis\n",
    "- Show the trend of average sale-price over years. (5 pts)\n",
    "- Show the number of properties that have been sold over months. (5 pts)\n",
    "- Show the sum of sale price for all 4 quadrant in Washington D.C. (5 pts)\n",
    "- Plot the average sale price over the number of fireplaces for properties that exist within NW and were sold in 2015. (5 pts)"
   ]
  },
  {
   "cell_type": "code",
   "execution_count": 5,
   "metadata": {},
   "outputs": [],
   "source": [
    "# Q4 Anaswers: (Add Cells as needed)"
   ]
  },
  {
   "cell_type": "markdown",
   "metadata": {},
   "source": [
    "## Good Luck!"
   ]
  }
 ],
 "metadata": {
  "kernelspec": {
   "display_name": "Python 3",
   "language": "python",
   "name": "python3"
  },
  "language_info": {
   "codemirror_mode": {
    "name": "ipython",
    "version": 3
   },
   "file_extension": ".py",
   "mimetype": "text/x-python",
   "name": "python",
   "nbconvert_exporter": "python",
   "pygments_lexer": "ipython3",
   "version": "3.7.7"
  }
 },
 "nbformat": 4,
 "nbformat_minor": 2
}
