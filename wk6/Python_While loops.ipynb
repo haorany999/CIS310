{
 "cells": [
  {
   "cell_type": "markdown",
   "metadata": {},
   "source": [
    "# Haoran Yang\n",
    "## Week6  02/26/2021\n",
    "### Python_While Loops\n"
   ]
  },
  {
   "cell_type": "markdown",
   "metadata": {},
   "source": [
    "** The general fomat for python for while loop:**\n",
    "\n",
    "<code>while test:\n",
    "           statements</code>"
   ]
  },
  {
   "cell_type": "code",
   "execution_count": null,
   "metadata": {},
   "outputs": [],
   "source": [
    "num = 1\n",
    "while num < 6:\n",
    "    print (num)\n",
    "    num += 1"
   ]
  },
  {
   "cell_type": "code",
   "execution_count": null,
   "metadata": {},
   "outputs": [],
   "source": [
    "num = 1\n",
    "while num < 6:\n",
    "    print ('num is currently:',num)\n",
    "    print('num is less than 6,now adding one to num. ')\n",
    "    num += 1"
   ]
  },
  {
   "cell_type": "code",
   "execution_count": null,
   "metadata": {},
   "outputs": [],
   "source": [
    "# add Else\n",
    "num = 1\n",
    "while num < 6:\n",
    "    print ('num is currently:',num)\n",
    "    print('num is less than 6,now adding one to num. ')\n",
    "    num += 1\n",
    "else:\n",
    "    print('Now while condition is not True,num is currently:',num)\n"
   ]
  },
  {
   "cell_type": "code",
   "execution_count": null,
   "metadata": {},
   "outputs": [],
   "source": [
    "# how to stop at a specific number, break keyword\n",
    "num = 1\n",
    "while num < 10:\n",
    "    print ('num is currently:',num)\n",
    "    print('num is less than 6,now adding one to num. ')\n",
    "    if num == 5 :\n",
    "        break\n",
    "    num += 1"
   ]
  },
  {
   "cell_type": "code",
   "execution_count": null,
   "metadata": {},
   "outputs": [],
   "source": [
    "# how to skip a specific number, continue keyword.\n",
    "num = 0\n",
    "while num < 10:\n",
    "    num += 1\n",
    "    if num == 5:\n",
    "        continue\n",
    "    print('num is currently:',num)\n",
    "    print('num is less than 6,now adding one to num. ')\n",
    "   "
   ]
  },
  {
   "cell_type": "code",
   "execution_count": null,
   "metadata": {},
   "outputs": [],
   "source": [
    "# Pass do nothing\n",
    "num = 0\n",
    "while num < 10:\n",
    "    num += 1\n",
    "    if num == 5:\n",
    "        pass\n",
    "    print('num is currently:',num)\n",
    "    print('num is less than 10,now adding one to num. ')\n",
    "   "
   ]
  },
  {
   "cell_type": "code",
   "execution_count": null,
   "metadata": {},
   "outputs": [],
   "source": [
    "# Pass do nothing\n",
    "num = 0\n",
    "while num < 10:\n",
    "    num += 1\n",
    "    if num % 2 == 1:\n",
    "        print('num is currently:',num)\n",
    "        print('num is less than 10,now adding one to num. ')\n",
    "   "
   ]
  },
  {
   "cell_type": "code",
   "execution_count": null,
   "metadata": {},
   "outputs": [],
   "source": [
    "# Pass do nothing\n",
    "num = 0\n",
    "while num < 10:\n",
    "    num += 1\n",
    "    if num % 2 == 0:\n",
    "        print('num is currently:',num)\n",
    "        print('num is less than 10,now adding one to num. ')\n",
    "   "
   ]
  },
  {
   "cell_type": "code",
   "execution_count": null,
   "metadata": {},
   "outputs": [],
   "source": [
    "while True:\n",
    "    print('Infinite Loop!')"
   ]
  },
  {
   "cell_type": "code",
   "execution_count": null,
   "metadata": {},
   "outputs": [],
   "source": []
  }
 ],
 "metadata": {
  "kernelspec": {
   "display_name": "Python 3.7 - default",
   "language": "python",
   "name": "py37_default"
  },
  "language_info": {
   "codemirror_mode": {
    "name": "ipython",
    "version": 3
   },
   "file_extension": ".py",
   "mimetype": "text/x-python",
   "name": "python",
   "nbconvert_exporter": "python",
   "pygments_lexer": "ipython3",
   "version": "3.7.7"
  }
 },
 "nbformat": 4,
 "nbformat_minor": 4
}
