{
 "cells": [
  {
   "cell_type": "markdown",
   "metadata": {},
   "source": [
    "# Haoran Yang\n",
    "## Week5 02/15/2021\n",
    "### Python Statements [if, else,elif]\n",
    "#### if condition1: perform action 1. elif condition2: perform action2. else: perform action3"
   ]
  },
  {
   "cell_type": "code",
   "execution_count": 1,
   "metadata": {},
   "outputs": [
    {
     "name": "stdout",
     "output_type": "stream",
     "text": [
      "It was correct\n"
     ]
    }
   ],
   "source": [
    "if True:\n",
    "    print(\"It was correct\")"
   ]
  },
  {
   "cell_type": "code",
   "execution_count": 5,
   "metadata": {},
   "outputs": [
    {
     "name": "stdout",
     "output_type": "stream",
     "text": [
      "Hi,Five!\n"
     ]
    }
   ],
   "source": [
    "value=5\n",
    "if value == 5:\n",
    "    print(\"Hi,Five!\")\n",
    "else:\n",
    "    print(\"Let's try again\")"
   ]
  },
  {
   "cell_type": "code",
   "execution_count": 7,
   "metadata": {},
   "outputs": [
    {
     "name": "stdout",
     "output_type": "stream",
     "text": [
      "You may redo test2!\n"
     ]
    }
   ],
   "source": [
    "test1=98\n",
    "test2=87\n",
    "if test2 < test1 :\n",
    "    print(\"You may redo test2!\")"
   ]
  },
  {
   "cell_type": "code",
   "execution_count": 10,
   "metadata": {},
   "outputs": [
    {
     "name": "stdout",
     "output_type": "stream",
     "text": [
      "Then redo test1\n"
     ]
    }
   ],
   "source": [
    "test1=98\n",
    "test2=87\n",
    "if test1 < test2 :\n",
    "    print(\"You may redo test2!\")\n",
    "else:\n",
    "    print(\"Then redo test1\")"
   ]
  },
  {
   "cell_type": "code",
   "execution_count": 16,
   "metadata": {},
   "outputs": [
    {
     "name": "stdout",
     "output_type": "stream",
     "text": [
      "test1 is greater than test2\n",
      "You may think to redo test2\n"
     ]
    }
   ],
   "source": [
    "test1=98\n",
    "test2=94\n",
    "if test1>test2:\n",
    "    print(\"test1 is greater than test2\")\n",
    "    print(\"You may think to redo test2\")\n",
    "elif test2>test1:\n",
    "    print(\"test2 is greater than test1\")\n",
    "    print(\"you may think to redo test1\")\n",
    "else:\n",
    "    print(\"you finally gotta it!\")"
   ]
  },
  {
   "cell_type": "code",
   "execution_count": 17,
   "metadata": {},
   "outputs": [
    {
     "name": "stdout",
     "output_type": "stream",
     "text": [
      "test1 is greater than test2!\n"
     ]
    }
   ],
   "source": [
    "# short hand if statement\n",
    "if test1>test2:print(\"test1 is greater than test2!\")"
   ]
  },
  {
   "cell_type": "code",
   "execution_count": 18,
   "metadata": {},
   "outputs": [
    {
     "name": "stdout",
     "output_type": "stream",
     "text": [
      "test1\n"
     ]
    }
   ],
   "source": [
    "# short hand if...else \n",
    "print(\"test1\") if test1>test2 else print (\"test2\")"
   ]
  },
  {
   "cell_type": "code",
   "execution_count": 1,
   "metadata": {},
   "outputs": [
    {
     "name": "stdout",
     "output_type": "stream",
     "text": [
      "Welcome to Colorado\n"
     ]
    }
   ],
   "source": [
    "s = \"Colorado\"\n",
    "if s == \"Colorado\":\n",
    "    print(\"Welcome to Colorado\")\n",
    "elif s == \"China\":\n",
    "    print(\"Wleccome to my hometown.\")\n",
    "elif s == \"Thailand\":\n",
    "    print(\"Welcome to holiday.\")\n",
    "else:\n",
    "    print(\"where are you now?\")\n"
   ]
  },
  {
   "cell_type": "code",
   "execution_count": 2,
   "metadata": {},
   "outputs": [
    {
     "name": "stdout",
     "output_type": "stream",
     "text": [
      "Both conditions are ture.\n"
     ]
    }
   ],
   "source": [
    "# AND\n",
    "s1=89\n",
    "s2=88\n",
    "s3=99\n",
    "if s1 > s2 and s3 > s2:\n",
    "    print(\"Both conditions are ture.\")"
   ]
  },
  {
   "cell_type": "code",
   "execution_count": 3,
   "metadata": {},
   "outputs": [
    {
     "name": "stdout",
     "output_type": "stream",
     "text": [
      "At least, one of the conditions is ture.\n"
     ]
    }
   ],
   "source": [
    "# or logical operator\n",
    "if s1 < s2 or s3 > s2:\n",
    "    print(\"At least, one of the conditions is ture.\")"
   ]
  },
  {
   "cell_type": "code",
   "execution_count": 5,
   "metadata": {},
   "outputs": [
    {
     "name": "stdout",
     "output_type": "stream",
     "text": [
      "Above 40,\n",
      "and also Above 60,\n"
     ]
    }
   ],
   "source": [
    "# Nested if statement.\n",
    "s1 = 80\n",
    "if s1 > 40:\n",
    "    print(\"Above 40,\")\n",
    "if  s1 > 60:\n",
    "    print (\"and also Above 60,\")\n",
    "else:\n",
    "    print(\"but not above 80\")"
   ]
  },
  {
   "cell_type": "code",
   "execution_count": 6,
   "metadata": {},
   "outputs": [],
   "source": [
    "if s1 > 60:\n",
    "    pass"
   ]
  },
  {
   "cell_type": "code",
   "execution_count": null,
   "metadata": {},
   "outputs": [],
   "source": []
  }
 ],
 "metadata": {
  "kernelspec": {
   "display_name": "Python 3.7 - default",
   "language": "python",
   "name": "py37_default"
  },
  "language_info": {
   "codemirror_mode": {
    "name": "ipython",
    "version": 3
   },
   "file_extension": ".py",
   "mimetype": "text/x-python",
   "name": "python",
   "nbconvert_exporter": "python",
   "pygments_lexer": "ipython3",
   "version": "3.7.7"
  }
 },
 "nbformat": 4,
 "nbformat_minor": 4
}
